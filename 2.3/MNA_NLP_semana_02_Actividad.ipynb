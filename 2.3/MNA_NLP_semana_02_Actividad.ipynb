{
  "cells": [
    {
      "attachments": {},
      "cell_type": "markdown",
      "metadata": {
        "id": "759SG4TyfbUn"
      },
      "source": [
        "# **Maestría en Inteligencia Artificial Aplicada**\n",
        "## **Curso: Procesamiento de Lenguaje Natural (NLP)**\n",
        "### Tecnológico de Monterrey\n",
        "### Prof Luis Eduardo Falcón Morales\n",
        "\n",
        "## **Adtividad de la Semana 02**\n",
        "### **Introducción al procesamiento de texto.**\n",
        "\n",
        "### Irvin Antero Gómez Esquivel\n",
        "### A00361034"
      ]
    },
    {
      "cell_type": "markdown",
      "metadata": {
        "id": "6ue1YAKx3XDo"
      },
      "source": [
        "En esta actividad deberás utilizar los datos del siguiente archivo que se encuentra en Canvas:\n",
        "\n",
        "MNA_NLP_semana_02_Actividad_datos.txt\n",
        "\n",
        "El archivo contiene comentarios en inglés sobre servicios de comida de la página de Yelp: https://www.yelp.com/ . \n",
        "\n",
        "Son mil comentarios y forman parte del conjunto de datos que se encuentra en el Machine Learning Repository de la UCI, llamado \"Sentiment Labelled Sentences\": https://archive.ics.uci.edu/ml/datasets/Sentiment+Labelled+Sentences#\n"
      ]
    },
    {
      "cell_type": "markdown",
      "metadata": {
        "id": "Zj-h4drXD-X9"
      },
      "source": [
        "#**Parte 1. Cargamos los datos.**   "
      ]
    },
    {
      "cell_type": "markdown",
      "metadata": {
        "id": "BY6yifxscfrx"
      },
      "source": [
        "Cargar los datos del archivo indicado y obtener una lista de longitud de 1000 strings/comentarios. \n",
        "\n",
        "Por el momento solamente requerimos las bibliotecas de Numpy y re, para el manejo de los arreglos y de las expresiones regulares en Python.\n",
        "\n",
        "En particular, no necesitarás en esta actividad la biblioteca de Pandas.\n",
        "\n",
        "###**NOTA: En esta actividad no debes importar nada más, con estas dos bibliotecas será *suficiente*.**"
      ]
    },
    {
      "cell_type": "code",
      "execution_count": 591,
      "metadata": {
        "id": "OJ26dAfhdFnf"
      },
      "outputs": [],
      "source": [
        "import numpy as np    # importamos Numpy para el manejo de los arreglos.\n",
        "import re             # importamos re para el manejo de las expresiones regulares."
      ]
    },
    {
      "cell_type": "code",
      "execution_count": 592,
      "metadata": {
        "id": "QHUmJyjDdGNP"
      },
      "outputs": [],
      "source": [
        "# Ejecuta las siguientes instrucciones para cargar la información del achivo dado:\n",
        "\n",
        "with open('MNA_NLP_semana_02_Actividad_datos.txt',        # puedes actualizar la ruta a tu archivo, en dado caso.\n",
        "          mode='r',     # abrimos el archivo en modo lectura.\n",
        "          encoding='utf-8') as f:\n",
        "    docs = f.readlines()    # separamos cada comentario por líneas\n",
        "\n",
        "f.close()  # ya que tenemos la información en la variable docs, cerramos el archivo"
      ]
    },
    {
      "cell_type": "code",
      "execution_count": 593,
      "metadata": {
        "id": "L6WzrSrodG-Y"
      },
      "outputs": [
        {
          "data": {
            "text/plain": [
              "True"
            ]
          },
          "execution_count": 593,
          "metadata": {},
          "output_type": "execute_result"
        }
      ],
      "source": [
        "type(docs) == list   # Verifica que tu variable \"docs\" es una lista"
      ]
    },
    {
      "cell_type": "code",
      "execution_count": 594,
      "metadata": {
        "id": "QIK1u9WS2FtS"
      },
      "outputs": [
        {
          "data": {
            "text/plain": [
              "True"
            ]
          },
          "execution_count": 594,
          "metadata": {},
          "output_type": "execute_result"
        }
      ],
      "source": [
        "len(docs)==1000  # verifica que la longitud de \"docs\" es de mil comentarios."
      ]
    },
    {
      "cell_type": "code",
      "execution_count": 595,
      "metadata": {
        "id": "9AMLIfQvJqNZ"
      },
      "outputs": [
        {
          "data": {
            "text/plain": [
              "['Wow... Loved this place.\\n',\n",
              " 'Crust is not good.\\n',\n",
              " 'Not tasty and the texture was just nasty.\\n',\n",
              " 'Stopped by during the late May bank holiday off Rick Steve recommendation and loved it.\\n',\n",
              " 'The selection on the menu was great and so were the prices.\\n',\n",
              " 'Now I am getting angry and I want my damn pho.\\n',\n",
              " \"Honeslty it didn't taste THAT fresh.)\\n\",\n",
              " 'The potatoes were like rubber and you could tell they had been made up ahead of time being kept under a warmer.\\n',\n",
              " 'The fries were great too.\\n',\n",
              " 'A great touch.\\n']"
            ]
          },
          "execution_count": 595,
          "metadata": {},
          "output_type": "execute_result"
        }
      ],
      "source": [
        "docs[0:10]     # observa algunos de los primeros comentarios"
      ]
    },
    {
      "cell_type": "markdown",
      "metadata": {
        "id": "k_ewoagic5jc"
      },
      "source": [
        "#**Parte 2: sección de preguntas (regex).**   \n"
      ]
    },
    {
      "cell_type": "markdown",
      "metadata": {
        "id": "X-eMJa3DFCIV"
      },
      "source": [
        "##**Instrucciones:**\n",
        "\n",
        "###**A continuación deberás contestar cada una de las preguntas que te piden usando expresiones regulares (regex).**\n",
        "\n",
        "###**Por el momento no hay restricción en cuanto al número de líneas de código que agregues, pero trata de incluir las mínimas posibles.**"
      ]
    },
    {
      "cell_type": "markdown",
      "metadata": {
        "id": "78nJMemzn5a5"
      },
      "source": [
        "*   **Pregunta 1.** \n",
        "\n",
        "Busca y elimina todos los saltos de línea '\\n' que se encuentran al final de cada comentario. \n",
        "\n",
        "Una vez finalizado, imprime los primeros 10 comentarios del resultado obtenido.\n"
      ]
    },
    {
      "cell_type": "code",
      "execution_count": 596,
      "metadata": {
        "id": "PwbYYIuZn8pE"
      },
      "outputs": [],
      "source": [
        "originalDocs = docs.copy()\n",
        "for x in range(len(docs)):\n",
        "    docs[x] = re.sub('[\\\\n]', '', docs[x])\n"
      ]
    },
    {
      "cell_type": "code",
      "execution_count": 597,
      "metadata": {
        "id": "j-0qeh2Jn8l1"
      },
      "outputs": [
        {
          "data": {
            "text/plain": [
              "['Wow... Loved this place.',\n",
              " 'Crust is not good.',\n",
              " 'Not tasty and the texture was just nasty.',\n",
              " 'Stopped by during the late May bank holiday off Rick Steve recommendation and loved it.',\n",
              " 'The selection on the menu was great and so were the prices.',\n",
              " 'Now I am getting angry and I want my damn pho.',\n",
              " \"Honeslty it didn't taste THAT fresh.)\",\n",
              " 'The potatoes were like rubber and you could tell they had been made up ahead of time being kept under a warmer.',\n",
              " 'The fries were great too.',\n",
              " 'A great touch.']"
            ]
          },
          "execution_count": 597,
          "metadata": {},
          "output_type": "execute_result"
        }
      ],
      "source": [
        "docs[0:10]"
      ]
    },
    {
      "cell_type": "markdown",
      "metadata": {
        "id": "VWeKQC93ctEo"
      },
      "source": [
        "*   **Pregunta 2.**  \n",
        "\n",
        "Busca e imprime todas las palabras que terminan con dos o más signos de admiración seguidos, por ejemplo \"!!!\". \n",
        "\n",
        "Debes imprimir tanto la palabra como la totalidad de signos de admiración que le siguen. \n",
        "\n",
        "Indica cuántos resultados obtuviste.\n",
        "\n"
      ]
    },
    {
      "cell_type": "code",
      "execution_count": 598,
      "metadata": {
        "id": "0p3kMXfddICc"
      },
      "outputs": [],
      "source": [
        "#docs = originalDocs.copy() \n",
        "joinedDocs = ''.join(originalDocs.copy())\n",
        "resultado = re.findall(r'\\w*!{2,}',joinedDocs)"
      ]
    },
    {
      "cell_type": "code",
      "execution_count": 599,
      "metadata": {
        "id": "SPVM1MCWdH6Z"
      },
      "outputs": [
        {
          "name": "stdout",
          "output_type": "stream",
          "text": [
            "['Firehouse!!!!!', 'APPETIZERS!!!', 'amazing!!!', 'buffet!!!', 'good!!', 'it!!!!', 'DELICIOUS!!', 'amazing!!', 'shawarrrrrrma!!!!!!', 'yucky!!!', 'steak!!!!!', 'delicious!!!', 'far!!', 'biscuits!!!', 'dry!!', 'disappointing!!!', '!!!', 'awesome!!', 'Up!!', 'FLY!!!!!!!!', 'here!!!', 'great!!!!!!!!!!!!!!', 'packed!!', 'otherwise!!', 'amazing!!!!!!!!!!!!!!!!!!!', 'style!!', 'disappointed!!']\n",
            "resultados obtenidos: 27\n"
          ]
        }
      ],
      "source": [
        "print(resultado)\n",
        "print('resultados obtenidos: ' + str(len(resultado)))"
      ]
    },
    {
      "cell_type": "markdown",
      "metadata": {
        "id": "-s3okBqL96TT"
      },
      "source": [
        "*   **Pregunta 3.**  \n",
        "\n",
        "Busca e imprime todas las palabras que están escritas totalmente en mayúsculas. Cada coincidencia debe ser una sola palabra.\n",
        "\n",
        "Indica cuántas palabras encontraste.\n",
        "\n"
      ]
    },
    {
      "cell_type": "code",
      "execution_count": 600,
      "metadata": {
        "id": "yKHJkZKo_nW5"
      },
      "outputs": [],
      "source": [
        "resultado = re.findall(r'\\b[A-Z][A-Z0-9]+\\b', joinedDocs)"
      ]
    },
    {
      "cell_type": "code",
      "execution_count": 601,
      "metadata": {
        "id": "L3q08aq69sNn"
      },
      "outputs": [
        {
          "name": "stdout",
          "output_type": "stream",
          "text": [
            "['THAT', 'APPETIZERS', 'WILL', 'NEVER', 'EVER', 'STEP', 'FORWARD', 'IN', 'IT', 'AGAIN', 'LOVED', 'AND', 'REAL', 'BITCHES', 'NYC', 'STALE', 'DELICIOUS', 'WORST', 'EXPERIENCE', 'EVER', 'ALL', 'BARGAIN', 'TV', 'NONE', 'FREEZING', 'AYCE', 'FLAVOR', 'NEVER', 'BBQ', 'UNREAL', 'OMG', 'BETTER', 'BLAND', 'RUDE', 'INCONSIDERATE', 'MANAGEMENT', 'WILL', 'NEVER', 'EVER', 'GO', 'BACK', 'AND', 'HAVE', 'TOLD', 'MANY', 'PEOPLE', 'WHAT', 'HAD', 'HAPPENED', 'TOTAL', 'WASTE', 'OF', 'TIME', 'FS', 'AZ', 'LOVED', 'CONCLUSION', 'BEST', 'GO', 'NOW', 'GC', 'AVOID', 'THIS', 'ESTABLISHMENT', 'AN', 'HOUR', 'NASTY', 'OMG', 'NO', 'BEST', 'THE', 'OWNERS', 'REALLY', 'REALLY', 'PERFECT', 'SCREAMS', 'LEGIT', 'MGM', 'BEST', 'FLY', 'FLY', 'FANTASTIC', 'GREAT', 'OK', 'WAY', 'MUST', 'HAVE', 'OK', 'OVERPRICED', 'BARE', 'HANDS', 'WEAK', 'SHOULD', 'RI', 'VERY', 'NOT']\n",
            "resultados obtenidos: 96\n"
          ]
        }
      ],
      "source": [
        "print(resultado)\n",
        "print('resultados obtenidos: ' + str(len(resultado)))"
      ]
    },
    {
      "cell_type": "markdown",
      "metadata": {
        "id": "GX8eYyDoMZma"
      },
      "source": [
        "*   **Pregunta 4.**  \n",
        "\n",
        "Busca e imprime los comentarios en donde todos los caracteres alfabéticos (letras) están en mayúsculas. \n",
        "\n",
        "Cada coincidencia encontrada debe ser todo el comentario/enunciado.\n",
        "\n",
        "Indica cuántos resultados obtuviste.\n"
      ]
    },
    {
      "cell_type": "code",
      "execution_count": 602,
      "metadata": {
        "id": "K8VuZxvTMYj6"
      },
      "outputs": [],
      "source": [
        "resultado = re.findall(r'^[^a-z]*$', joinedDocs, re.MULTILINE)"
      ]
    },
    {
      "cell_type": "code",
      "execution_count": 603,
      "metadata": {
        "id": "PmKgX7sCMcDx"
      },
      "outputs": [
        {
          "name": "stdout",
          "output_type": "stream",
          "text": [
            "['DELICIOUS!!', 'RUDE & INCONSIDERATE MANAGEMENT.', 'WILL NEVER EVER GO BACK AND HAVE TOLD MANY PEOPLE WHAT HAD HAPPENED.', 'TOTAL WASTE OF TIME.', 'AVOID THIS ESTABLISHMENT!']\n",
            "resultados obtenidos: 5\n"
          ]
        }
      ],
      "source": [
        "print(resultado)\n",
        "print('resultados obtenidos: ' + str(len(resultado)))"
      ]
    },
    {
      "cell_type": "markdown",
      "metadata": {
        "id": "a1i6qv7-McmU"
      },
      "source": [
        "*   **Pregunta 5.**  \n",
        "\n",
        "Busca e imprime todas las palabras que tengan una vocal acentuada, del tipo á, é, í, ó, ú. \n",
        "\n",
        "Indica cuántos resultados obtuviste."
      ]
    },
    {
      "cell_type": "code",
      "execution_count": 604,
      "metadata": {
        "id": "nZZ5zKUOMeGD"
      },
      "outputs": [],
      "source": [
        "#print(joinedDocs)\n",
        "resultado = re.findall(r'\\b\\w*[ÁÉÍÓÚáéíóú]\\w*\\b', joinedDocs)\n"
      ]
    },
    {
      "cell_type": "code",
      "execution_count": 605,
      "metadata": {
        "id": "l1mFvUEZMe8s"
      },
      "outputs": [
        {
          "name": "stdout",
          "output_type": "stream",
          "text": [
            "['fiancé', 'Café', 'puréed']\n",
            "resultados obtenidos: 3\n"
          ]
        }
      ],
      "source": [
        "print(resultado)\n",
        "print('resultados obtenidos: ' + str(len(resultado)))"
      ]
    },
    {
      "cell_type": "markdown",
      "metadata": {
        "id": "ZmPiAI82Mfb3"
      },
      "source": [
        "*   **Pregunta 6.**  \n",
        "\n",
        "Busca e imprime todas las cantidades numéricas monetarias, enteras o con decimales, que inician con el símbolo $\\$$. \n",
        "\n",
        "Indica cuántos resultados obtuviste."
      ]
    },
    {
      "cell_type": "code",
      "execution_count": 606,
      "metadata": {
        "id": "6vhe9-Y-MhL9"
      },
      "outputs": [],
      "source": [
        "resultado = re.findall(r'\\$\\d*\\.?\\d*', joinedDocs)"
      ]
    },
    {
      "cell_type": "code",
      "execution_count": 607,
      "metadata": {
        "id": "_t0a5xWDMhQ5"
      },
      "outputs": [
        {
          "name": "stdout",
          "output_type": "stream",
          "text": [
            "['$20', '$4.00', '$17', '$3', '$35', '$7.85', '$12', '$11.99']\n",
            "resultados obtenidos: 8\n"
          ]
        }
      ],
      "source": [
        "print(resultado)\n",
        "print('resultados obtenidos: ' + str(len(resultado)))"
      ]
    },
    {
      "cell_type": "markdown",
      "metadata": {
        "id": "2j-HpvhwMhq2"
      },
      "source": [
        "*   **Pregunta 7.**  \n",
        "\n",
        "Busca e imprime todas las palabras que sean variantes de la palabra \"love\", sin importar si incluyen mayúsculas o minúsculas, o la manera en que esté conjugada o alguna otra variación que se haga con dicha palabra.\n",
        "\n",
        "Indica cuántos resultados obtuviste."
      ]
    },
    {
      "cell_type": "code",
      "execution_count": 608,
      "metadata": {
        "id": "kqqyRChVMjol"
      },
      "outputs": [],
      "source": [
        "resultado = re.findall(r'(?i)\\blov\\w+', joinedDocs)"
      ]
    },
    {
      "cell_type": "code",
      "execution_count": 609,
      "metadata": {
        "id": "UXd0VQluMj_x"
      },
      "outputs": [
        {
          "name": "stdout",
          "output_type": "stream",
          "text": [
            "['Loved', 'loved', 'Loved', 'love', 'loves', 'LOVED', 'lovers', 'loving', 'love', 'lovers', 'Love', 'loved', 'loved', 'love', 'love', 'love', 'loved', 'love', 'loved', 'Love', 'LOVED', 'love', 'lovely', 'love', 'lovely', 'love', 'lover', 'loved', 'love', 'love', 'love', 'love', 'love', 'love', 'love', 'love']\n",
            "resultados obtenidos: 36\n"
          ]
        }
      ],
      "source": [
        "print(resultado)\n",
        "print('resultados obtenidos: ' + str(len(resultado)))"
      ]
    },
    {
      "cell_type": "markdown",
      "metadata": {
        "id": "Ctb-NTY3MkYG"
      },
      "source": [
        "*   **Pregunta 8.**  \n",
        "\n",
        "Busca e imprime todas las palabras, variantes de \"so\" y \"good\", que tengan dos o más \"o\" en \"so\" y 3 o más \"o\" en good. \n",
        "\n",
        "Indica cuántas encontraste.\n"
      ]
    },
    {
      "cell_type": "code",
      "execution_count": 610,
      "metadata": {
        "id": "A8Nf3B_cMlqg"
      },
      "outputs": [],
      "source": [
        "resultado = re.findall(r'\\bso{2,}|\\bgo{3,}\\w+', joinedDocs)"
      ]
    },
    {
      "cell_type": "code",
      "execution_count": 611,
      "metadata": {
        "id": "svS4-vvPMl6f"
      },
      "outputs": [
        {
          "name": "stdout",
          "output_type": "stream",
          "text": [
            "['soo', 'soooo', 'soo', 'soo', 'gooodd', 'soo', 'soo', 'soooooo', 'soo', 'soo', 'soooo', 'soo', 'soo']\n",
            "resultados obtenidos: 13\n"
          ]
        }
      ],
      "source": [
        "print(resultado)\n",
        "print('resultados obtenidos: ' + str(len(resultado)))"
      ]
    },
    {
      "cell_type": "markdown",
      "metadata": {
        "id": "hkak1opjMmlk"
      },
      "source": [
        "*   **Pregunta 9.**  \n",
        "\n",
        "Busca e imprime todas las palabras que tengan una longitud mayor estrictamente a 10 caracteres alfabéticos.\n",
        "\n",
        "No se consideran los signos de puntuación o caracteres especiales en la longitud de estas cadenas, solo caracteres alfabéticos en mayúsculas o minúsculas.\n",
        "\n",
        "Indica la cantidad de palabras encontradas.\n"
      ]
    },
    {
      "cell_type": "code",
      "execution_count": 612,
      "metadata": {
        "id": "PYxdp3uhMoD0"
      },
      "outputs": [],
      "source": [
        "resultado = re.findall(r'\\b\\w{11,}', joinedDocs) #usamos 11 porque el requerimiento dice \"longitud mayor estrictamente a 10 caracteres...\""
      ]
    },
    {
      "cell_type": "code",
      "execution_count": 613,
      "metadata": {
        "id": "BR7e2F4FMof-"
      },
      "outputs": [
        {
          "name": "stdout",
          "output_type": "stream",
          "text": [
            "['recommendation', 'recommended', 'overwhelmed', 'inexpensive', 'establishment', 'imaginative', 'opportunity', 'experiencing', 'underwhelming', 'relationship', 'unsatisfying', 'disappointing', 'outrageously', 'disappointing', 'expectations', 'restaurants', 'suggestions', 'disappointed', 'considering', 'Unfortunately', 'immediately', 'ingredients', 'accommodations', 'maintaining', 'Interesting', 'disrespected', 'accordingly', 'unbelievable', 'cheeseburger', 'descriptions', 'inexpensive', 'disappointed', 'Veggitarian', 'outstanding', 'recommendation', 'disappointed', 'disappointed', 'neighborhood', 'disappointed', 'corporation', 'considering', 'exceptional', 'shawarrrrrrma', 'disappointed', 'vinaigrette', 'immediately', 'unbelievably', 'replenished', 'disappointed', 'enthusiastic', 'Outstanding', 'comfortable', 'interesting', 'INCONSIDERATE', 'considering', 'transcendant', 'disappointment', 'disappointed', 'disappointed', 'overwhelmed', 'professional', 'Furthermore', 'combination', 'connoisseur', 'profiterole', 'outstanding', 'acknowledged', 'ventilation', 'beautifully', 'establishment', 'extraordinary', 'disappointed', 'cheesecurds', 'disappointed', 'interesting', 'experienced', 'opportunity', 'disgraceful', 'restaurants', 'ESTABLISHMENT', 'recommended', 'disappointed', 'recommended', 'acknowledged', 'presentation', 'Philadelphia', 'disappointed', 'disappointing', 'grandmother', 'drastically', 'informative', 'Disappointed', 'constructed', 'comfortable', 'Smashburger', 'cheeseburger', 'neighborhood', 'disappointed', 'hospitality', 'recommending', 'disappointed', 'deliciously', 'compliments', 'recommendation', 'establishment', 'calligraphy', 'traditional', 'combination', 'Unfortunately', 'Wienerschnitzel', 'unfortunately', 'considering', 'highlighted', 'Mediterranean', 'unprofessional', 'anticipated', 'disappointing', 'unexperienced', 'disrespected', 'professional', 'restaurants', 'Disappointing', 'WAAAAAAyyyyyyyyyy', 'reservation', 'imagination', 'undercooked', 'disappointed', 'disappointment', 'disappointment', 'deuchebaggery', 'disappointed', 'disappointment', 'immediately', 'Unfortunately', 'disapppointment', 'circumstances', 'undercooked', 'caterpillar', 'presentation', 'disappointed', 'underwhelming']\n",
            "resultados obtenidos: 141\n"
          ]
        }
      ],
      "source": [
        "print(resultado)\n",
        "print('resultados obtenidos: ' + str(len(resultado)))"
      ]
    },
    {
      "cell_type": "markdown",
      "metadata": {
        "id": "ApjTNzSxMpDc"
      },
      "source": [
        "*   **Pregunta 10.**  \n",
        "\n",
        "Busca e imprime todas las palabras que inician con una letra mayúscula y terminan con una minúscula, pero que además no sea la primera palabra del comentario/string. \n",
        "\n",
        "Indica la cantidad de resultados obtenidos."
      ]
    },
    {
      "cell_type": "code",
      "execution_count": 614,
      "metadata": {
        "id": "Vb0ndRGAMqdL"
      },
      "outputs": [],
      "source": [
        "resultado = re.findall(r'(?<!^)\\b[A-Z]\\S*?[a-z]\\b', joinedDocs, re.MULTILINE)\n"
      ]
    },
    {
      "cell_type": "code",
      "execution_count": 615,
      "metadata": {
        "id": "dLPTRPnTMqqx"
      },
      "outputs": [
        {
          "name": "stdout",
          "output_type": "stream",
          "text": [
            "['Loved', 'May', 'Rick', 'Steve', 'Cape', 'Cod', 'This', 'Vegas', 'Burrittos', 'Blah', 'The', 'The', 'They', 'This', 'Mexican', 'Took', 'Luke', 'Our', 'Also', 'Overall', 'Poor', 'Hiro', 'On', 'Frozen', 'The', 'Firehouse', 'My', 'Greek', 'Greek', 'They', 'Loved', 'Heart', 'Attack', 'Grill', 'Vegas', 'The', 'The', 'Great', 'Dos', 'Gringos', 'The', 'Jeff', 'Really', 'It', 'Excalibur', 'Very', 'Bad', 'Customer', 'Service', \"I've\", 'Vegas', 'Rice', 'Company', 'Pho', 'In', 'It', 'Never', 'Hard', 'Rock', 'Casino', 'On', 'Our', 'The', 'Best', 'Buffet', 'Tigerlilly', 'The', 'Yama', 'At', 'Thai', 'Nice', 'Although', 'Indian', 'Worst', 'The', 'We', 'Host', 'Not', \"I'll\", 'Phenomenal', 'Definitely', \"I'm\", 'Vegas', 'They', 'Delicious', 'Lox', 'Great', 'Subway', 'Subway', 'Vegas', 'He', 'Vegas', 'The', 'The', 'Mandalay', 'Bay', 'Great', 'Voodoo', \"I'd\", 'Unfortunately', 'Their', 'Phoenix', 'This', 'Vegas', 'Lordy', 'Khao', 'Soi', 'Perhaps', \"I'm\", 'The', 'Not', 'The', 'Love', 'Lemon', 'The', 'Also', 'When', 'Joey', 'Valley', 'Phoenix', 'Magazine', 'Pho', 'Fridays', \"I've\", 'The', 'If', 'For', 'Tasty', 'Jamaican', 'The', 'Lobster', 'Bisque', 'Bussell', 'Sprouts', 'Risotto', 'Filet', 'It', 'Otto', 'As', 'If', 'Ordered', 'Yeah', \"TV's\", 'If', 'The', \"I'd\", 'Honestly', \"M's\", 'Not', 'Everyone', 'It', 'Also', 'Drinks', 'Seriously', 'Vegas', 'Greek', 'Overall', 'Vegas', 'Good', 'Plus', 'The', 'Thus', 'For', 'Veggitarian', 'Stopped', 'Madison', 'Ironman', \"I've\", 'Jenni', 'Pho', 'Bachi', 'Burger', 'This', 'Pizza', 'Salads', 'They', 'Yelpers', 'The', 'You', 'Bachi', 'Service', 'Will', 'As', \"I'd\", 'In', 'English', 'Great', 'By', 'Back', 'And', 'Also', \"I've\", 'They', \"I've\", 'Pizza', 'Hut', 'Both', 'We', 'Seat', 'The', 'Gold', 'Standard', 'Of', 'Thai', 'Tucson', \"I've\", 'Vegas', 'This', 'Chipotle', 'Classy', 'Baseball', 'On', 'Sadly', 'Gordon', 'Ramsey', 'Steak', 'Vegas', \"I've\", 'The', 'Outstanding', 'Best', 'Food', \"I'll\", 'Lobster', 'Bisque', 'Vegas', 'The', 'The', 'They', 'Eggplant', 'Green', 'Bean', 'In', 'The', 'Halibut', \"I'm\", 'Vegas', 'If', 'Vegas', 'Vegas', 'Crystals', 'Aria', 'To', 'Ians', 'Overall', 'Bouchon', \"I'm\", 'Great', 'San', 'Francisco', 'Bay', 'Area', 'Buldogis', 'Gourmet', 'Hot', 'Dog', 'Come', 'For', 'Our', 'On', 'Furthermore', \"I'm\", 'Strike', \"I've\", 'Steiners', 'If', 'Anyway', 'Not', 'The', 'The', \"I'll\", 'Carly', 'This', 'Love', 'Vegas', 'Very', 'Total', 'Camelback', 'Flower', 'Shop', 'Cartel', 'Coffee', 'Third', 'This', 'Las', 'Vegas', \"I've\", 'This', 'It', 'Worse', 'Bunch', 'Very', 'This', 'Mom', \"I'd\", 'Noca', 'Give', 'At', 'Anyway', 'Point', 'Oh', 'Similarly', 'Be', 'The', 'Vegas', 'Sat', 'Sun', 'If', 'Mexican', 'Frenchman', 'Great', 'No', \"I'm\", 'Perfect', 'Vegas', 'However', 'Palm', 'The', 'Are', 'This', 'He', 'The', 'As', \"I'm\", 'If', 'Thai', 'All', \"I'll\", 'My', 'Toast', 'Thai', 'It', 'Phoenix', 'Crema', 'Philadelphia', 'We', 'Good', 'North', 'Scottsdale', 'The', 'Sorry', 'Bloody', 'Mary', 'Despite', 'Pho', 'The', 'Same', 'Caesar', 'After', 'Macarons', 'Our', 'Experience', 'Very', 'Disappointed', 'Big', 'Bay', 'Plater', 'Not', 'Italian', 'That', 'Vegas', 'Baba', 'Ganoush', 'Very', 'The', 'Nobu', 'Smashburger', \"I've\", \"I'm\", 'Panna', 'Cotta', 'Very', 'Prices', 'The', 'Good', 'Hawaiian', 'Breeze', 'Mango', 'Magic', 'Pineapple', 'Delight', \"I've\", 'We', 'Needless', 'Anyways', 'The', 'The', 'Strip', 'Steak', 'Paradise', 'Valley', 'Cibo', 'Service', 'That', 'Thumbs', 'Up', 'Italian', 'Pros', 'Large', 'Nice', 'Great', 'The', 'Elk', 'Filet', 'After', 'Cute', 'The', 'Dylan', 'All', 'One', 'Han', 'Nan', 'Chicken', 'As', 'The', 'Bar', 'Edinburgh', 'Chinese', \"I've\", 'Overall', 'Indian', 'Probably', 'Friend', 'Try', 'Chinese', 'When', 'The', 'Level', 'Main', 'When', \"I'm\", \"I'll\", 'Food', 'Prices', 'The', \"I'm\", 'Phoenix', 'It', 'Both', 'Hot', 'Sour', 'Egg', 'Flower', 'Soups', 'Stars', 'Sunday', 'Hunan', 'What', 'The', 'Unfortunately', 'Perfect', 'The', \"I'm\", 'The', 'Great', 'Pita', 'Wienerschnitzel', 'Maine', 'Lobster', 'Roll', 'My', 'The', 'Lastly', 'The', 'This', \"I'm\", 'Kabuki', 'Best', 'Maria', 'Caballero', 'In', \"I'm\", 'To', 'Bad', 'The', 'Wife', 'Went', \"I've\", 'This', 'Hot', 'Everything', 'They', \"I've\", 'For', 'Strip', 'The', \"I'm\", 'Costco', 'All', 'To', 'Place', 'Gyros', 'Japanese', 'Now', 'The', 'Albondigas', 'On', 'After', 'No', 'Mediterranean', 'Chicken', 'Salad', 'Mellow', 'Mushroom', 'Thai', 'Vegas', 'Overall', 'Mmmm', 'Buffet', 'Bellagio', 'And', 'My', 'Also', 'Vegas', 'Very', 'How', 'There', 'What', 'Christmas', 'Eve', 'Needless', 'Every', 'However', 'It', 'The', 'Denny', 'If', 'The', 'The', 'The', 'The', 'It', 'Maybe', 'Vegetarian', \"I've\", 'The', 'The', 'Then', 'Insults', 'Taco', 'Unfortunately', 'Your', 'Heimer', 'All', 'Ha', 'Long', 'Bay', 'Subway', 'When', 'Brushfire', 'It', 'Mirage', 'In', 'The', 'Ninja', 'Sushi', 'Then']\n",
            "resultados obtenidos: 557\n"
          ]
        }
      ],
      "source": [
        "print(resultado)\n",
        "print('resultados obtenidos: ' + str(len(resultado)))"
      ]
    },
    {
      "cell_type": "markdown",
      "metadata": {
        "id": "u7nfm4KhMrNW"
      },
      "source": [
        "*   **Pregunta 11.**  \n",
        "\n",
        "Busca e imprime la secuencia de dos o más palabras que están separadas por un guion, \"-\", sin que tengan espacios en blanco entre ellas.\n",
        "\n",
        "Por ejemplo \"Go-Kart\" sería válido, pero \"Go  -Kart\" o \"Go  -  Kart\" no lo serían. \n",
        "\n",
        "Indica la cantidad de resultados obtenidos."
      ]
    },
    {
      "cell_type": "code",
      "execution_count": 616,
      "metadata": {
        "id": "OwU-a7eGMsub"
      },
      "outputs": [],
      "source": [
        "resultado = re.findall(r'\\b[a-zA-Z]+-[a-zA-Z]+\\b', joinedDocs)"
      ]
    },
    {
      "cell_type": "code",
      "execution_count": 617,
      "metadata": {
        "id": "SgzIL74ZMtGw"
      },
      "outputs": [
        {
          "name": "stdout",
          "output_type": "stream",
          "text": [
            "['flat-lined', 'hands-down', 'must-stop', 'sub-par', 'Service-check', 'in-house', 'been-stepped', 'in-and', 'tracked-everywhere', 'multi-grain', 'to-go', 'non-customer', 'High-quality', 'sit-down', 'over-whelm', 'low-key', 'non-fancy', 'golden-crispy', 'over-priced', 'over-hip', 'under-services']\n",
            "resultados obtenidos: 21\n"
          ]
        }
      ],
      "source": [
        "print(resultado)\n",
        "print('resultados obtenidos: ' + str(len(resultado)))"
      ]
    },
    {
      "cell_type": "markdown",
      "metadata": {
        "id": "DEIgl79HMthr"
      },
      "source": [
        "*   **Pregunta 12.**  \n",
        "\n",
        "Busca e imprime todas las palabras que terminan en \"ing\" o \"ed\". \n",
        "\n",
        "Indica la cantidad de palabras que encontraste de cada una."
      ]
    },
    {
      "cell_type": "code",
      "execution_count": 618,
      "metadata": {
        "id": "I4TSofBMMv9y"
      },
      "outputs": [],
      "source": [
        "resultadoed = re.findall(r'\\w*ed\\b', joinedDocs, re.IGNORECASE)\n",
        "resultadoing = re.findall(r'\\w*ing\\b', joinedDocs, re.IGNORECASE)"
      ]
    },
    {
      "cell_type": "code",
      "execution_count": 619,
      "metadata": {
        "id": "AhGq6De2Mvyh"
      },
      "outputs": [
        {
          "name": "stdout",
          "output_type": "stream",
          "text": [
            "['Loved', 'Stopped', 'loved', 'ended', 'overpriced', 'tried', 'disgusted', 'shocked', 'recommended', 'performed', 'red', 'asked', 'overwhelmed', 'grossed', 'melted', 'provided', 'cooked', 'ordered', 'realized', 'Loved', 'lined', 'cooked', 'ripped', 'ripped', 'petrified', 'included', 'expected', 'seasoned', 'cheated', 'walked', 'smelled', 'tailored', 'arrived', 'roasted', 'added', 'LOVED', 'cooked', 'passed', 'liked', 'managed', 'served', 'overpriced', 'checked', 'disappointed', 'red', 'decorated', 'served', 'watched', 'greeted', 'seated', 'waited', 'flavored', 'ordered', 'ordered', 'relocated', 'impressed', 'seated', 'priced', 'treated', 'ordered', 'used', 'handed', 'listed', 'missed', 'thrilled', 'inspired', 'desired', 'overcooked', 'decided', 'looked', 'dressed', 'treated', 'ordered', 'sucked', 'expected', 'sucked', 'imagined', 'served', 'arrived', 'satisfied', 'voted', 'insulted', 'disrespected', 'dreamed', 'lived', 'stepped', 'mixed', 'showed', 'realized', 'loved', 'needed', 'loved', 'wrapped', 'uninspired', 'Ordered', 'uploaded', 'covered', 'supposed', 'rolled', 'stayed', 'Based', 'received', 'privileged', 'charged', 'visited', 'proclaimed', 'disappointed', 'Stopped', 'dedicated', 'liked', 'disappointed', 'waited', 'waited', 'burned', 'waited', 'disappointed', 'Waited', 'disappointed', 'pulled', 'prepared', 'fried', 'passed', 'ordered', 'toasted', 'untoasted', 'figured', 'returned', 'eyed', 'disappointed', 'pleased', 'replenished', 'disappointed', 'treated', 'offered', 'tasted', 'dropped', 'decorated', 'served', 'HAPPENED', 'walked', 'stuffed', 'located', 'Cooked', 'disappointed', 'screwed', 'frustrated', 'iced', 'stuffed', 'disappointed', 'grossed', 'enjoyed', 'looked', 'overwhelmed', 'stayed', 'smeared', 'stepped', 'tracked', 'tried', 'rushed', 'loved', 'Ordered', 'cooked', 'insulted', 'contained', 'enjoyed', 'relaxed', 'loved', 'acknowledged', 'trimmed', 'cooked', 'claimed', 'handled', 'LOVED', 'asked', 'limited', 'boiled', 'liked', 'sliced', 'attached', 'humiliated', 'fried', 'impressed', 'disappointed', 'priced', 'disappointed', 'need', 'need', 'experienced', 'waited', 'seated', 'decided', 'pleased', 'recommended', 'helped', 'witnessed', 'Waited', 'waited', 'waited', 'checked', 'tasted', 'disappointed', 'served', 'rated', 'recommended', 'pulled', 'waited', 'acknowledged', 'perpared', 'dusted', 'powdered', 'enjoyed', 'expanded', 'ended', 'arrived', 'wanted', 'disappointed', 'need', 'checked', 'impressed', 'reheated', 'tasted', 'grilled', 'focused', 'roasted', 'asked', 'ignored', 'tasted', 'Ordered', 'greeted', 'seated', 'Tried', 'seated', 'Disappointed', 'ordered', 'constructed', 'fried', 'requested', 'used', 'tasted', 'drenched', 'tried', 'walked', 'expected', 'disappointed', 'mortified', 'impressed', 'refrained', 'pleased', 'loved', 'grilled', 'reminded', 'sucked', 'hooked', 'ordered', 'disappointed', 'seasoned', 'added', 'touched', 'fried', 'opened', 'impressed', 'watched', 'Tasted', 'ordered', 'received', 'impressed', 'overcooked', 'cooked', 'needed', 'served', 'ordered', 'overpriced', 'OVERPRICED', 'packed', 'opposed', 'priced', 'surprised', 'focused', 'overpriced', 'tried', 'enjoyed', 'qualified', 'tasted', 'hated', 'watched', 'fried', 'tried', 'helped', 'started', 'highlighted', 'used', 'enjoyed', 'ordered', 'tasted', 'asked', 'refused', 'tried', 'toasted', 'anticipated', 'unexperienced', 'insulted', 'disrespected', 'impressed', 'puréed', 'asked', 'rated', 'lacked', 'sliced', 'pulled', 'undercooked', 'seemed', 'watered', 'lacked', 'disappointed', 'overpriced', 'ensued', 'disappointed', 'placed', 'avoided', 'received', 'wanted', 'sucked', 'happened', 'owned', 'wanted', 'Overpriced', 'vomited', 'started', 'unwrapped', 'lacked', 'seemed', 'undercooked', 'closed', 'refried', 'dried', 'disappointed', 'impressed', 'wasted', 'poured']\n",
            "terminación \"ed\" resultados obtenidos: 339\n",
            "['during', 'getting', 'being', 'being', 'amazing', 'running', 'redeeming', 'getting', 'thing', 'dressing', 'refreshing', 'running', 'amazing', 'nothing', 'appalling', 'wasting', 'eating', 'going', 'Coming', 'experiencing', 'underwhelming', 'eating', 'raving', 'spring', 'unsatisfying', 'amazing', 'Everything', 'disappointing', 'dining', 'flirting', 'thing', 'coming', 'playing', 'ordering', 'arriving', 'disappointing', 'preparing', 'loving', 'liking', 'reviewing', 'venturing', 'including', 'during', 'changing', 'going', 'considering', 'coming', 'going', 'everything', 'looking', 'dressing', 'dining', 'Everything', 'amazing', 'judging', 'maintaining', 'asking', 'having', 'something', 'lacking', 'Interesting', 'preparing', 'missing', 'feeling', 'exceeding', 'inviting', 'climbing', 'waiting', 'coming', 'being', 'lacking', 'going', 'amazing', 'dealing', 'annoying', 'falling', 'sporting', 'amazing', 'providing', 'building', 'FREEZING', 'lighting', 'going', 'nothing', 'working', 'eating', 'dressing', 'being', 'outstanding', 'getting', 'amazing', 'rating', 'eating', 'writing', 'everything', 'dining', 'boring', 'charming', 'going', 'making', 'pricing', 'considering', 'amazing', 'Everything', 'nothing', 'nothing', 'driving', 'during', 'evening', 'Outstanding', 'buying', 'handling', 'wasting', 'craving', 'dining', 'interesting', 'amazing', 'being', 'outshining', 'starving', 'coming', 'considering', 'shopping', 'nothing', 'getting', 'trying', 'eating', 'going', 'everything', 'Nothing', 'going', 'outstanding', 'running', 'forgetting', 'upgrading', 'eating', 'bring', 'hoping', 'living', 'dining', 'filling', 'amazing', 'Everything', 'thing', 'amazing', 'Everything', 'interesting', 'amazing', 'amazing', 'waiting', 'going', 'going', 'dining', 'saving', 'something', 'trying', 'disgusting', 'hankering', 'being', 'being', 'being', 'setting', 'sitting', 'waiting', 'satisfying', 'eating', 'being', 'freaking', 'getting', 'amazing', 'disappointing', 'seasoning', 'going', 'being', 'bring', 'letting', 'evening', 'waiting', 'being', 'eating', 'going', 'seating', 'playing', 'amazing', 'staying', 'giving', 'talking', 'amazing', 'amazing', 'amazing', 'amazing', 'filling', 'dripping', 'going', 'serving', 'recommending', 'thing', 'reading', 'seating', 'going', 'everything', 'thing', 'sitting', 'waiting', 'bring', 'revisiting', 'coming', 'anything', 'feeling', 'during', 'thing', 'being', 'amazing', 'being', 'amazing', 'satifying', 'describing', 'coming', 'everything', 'Paying', 'going', 'thing', 'amazing', 'getting', 'cramming', 'considering', 'fucking', 'going', 'appealing', 'getting', 'coming', 'Everything', 'dealing', 'everything', 'something', 'during', 'dining', 'cooking', 'dining', 'editing', 'setting', 'amazing', 'rotating', 'Pricing', 'satisfying', 'disappointing', 'amazing', 'returning', 'running', 'being', 'thing', 'nothing', 'poisoning', 'thinking', 'something', 'going', 'disgusting', 'caring', 'bring', 'Disappointing', 'saying', 'going', 'coming', 'building', 'seating', 'dipping', 'setting', 'anything', 'drinking', 'serving', 'doing', 'putting', 'getting', 'looking', 'coming', 'staying', 'lacking', 'underwhelming', 'drawing', 'bring']\n",
            "terminacion \"ing\" resultados obtenidos: 280\n"
          ]
        }
      ],
      "source": [
        "print(resultadoed)\n",
        "print('terminación \"ed\" resultados obtenidos: ' + str(len(resultadoed)))\n",
        "\n",
        "print(resultadoing)\n",
        "print('terminacion \"ing\" resultados obtenidos: ' + str(len(resultadoing)))"
      ]
    },
    {
      "cell_type": "markdown",
      "metadata": {
        "id": "70StdqAZa9E9"
      },
      "source": [
        "#**Parte 3. Proceso de limpieza.**"
      ]
    },
    {
      "cell_type": "markdown",
      "metadata": {
        "id": "xaDUFXHrMvX2"
      },
      "source": [
        "*   **Pregunta 13.**  \n",
        "\n",
        "Ahora realiza un proceso de limpieza del corpus que incluya los siguientes procesos:\n",
        "\n",
        "*   Solo se deben considerar caracteres alfabéticos. Es decir, se eliminan todos los signos de puntuación y caracteres especiales.\n",
        "*   Todos los caracteres alfabéticos se transforman a minúsculas.\n",
        "*   Se deben eliminar todos los espacios en blanco adicionales que se puedan encontrar en cada comentario.\n",
        "\n",
        "Al finalizar dicho proceso de limpieza, imprime el resultado de los primeros 10 comentarios resultantes. \n",
        "   \n",
        "\n",
        "\n"
      ]
    },
    {
      "cell_type": "code",
      "execution_count": 620,
      "metadata": {
        "id": "K3kQzPOPMx0w"
      },
      "outputs": [],
      "source": [
        "# solo debe considerar caracteres alfabéticos\n",
        "for x in range(len(docs)):\n",
        "    docs[x] = re.sub(r'[^\\w\\s]', '', docs[x])\n",
        "\n",
        "for x in range(len(docs)):\n",
        "    docs[x] = docs[x].lower()\n",
        "\n",
        "for x in range(len(docs)):\n",
        "    docs[x] = re.sub(r'[\\s{2,}]', ' ', docs[x])\n",
        "\n"
      ]
    },
    {
      "cell_type": "code",
      "execution_count": 621,
      "metadata": {
        "id": "mYEDlHSFMyJN"
      },
      "outputs": [
        {
          "data": {
            "text/plain": [
              "['wow loved this place',\n",
              " 'crust is not good',\n",
              " 'not tasty and the texture was just nasty',\n",
              " 'stopped by during the late may bank holiday off rick steve recommendation and loved it',\n",
              " 'the selection on the menu was great and so were the prices',\n",
              " 'now i am getting angry and i want my damn pho',\n",
              " 'honeslty it didnt taste that fresh',\n",
              " 'the potatoes were like rubber and you could tell they had been made up ahead of time being kept under a warmer',\n",
              " 'the fries were great too',\n",
              " 'a great touch']"
            ]
          },
          "execution_count": 621,
          "metadata": {},
          "output_type": "execute_result"
        }
      ],
      "source": [
        "docs[0:10]"
      ]
    },
    {
      "cell_type": "markdown",
      "metadata": {
        "id": "WZwEhg2lUSAX"
      },
      "source": [
        "*   **Pregunta 14.**  \n",
        "\n",
        "Con el resultado de la limpieza obtenido en la pregunta anterior, realiza ahora un proceso de tokenización por palabras del corpus. \n",
        "\n",
        "Es decir, al final de este proceso de tokenización, debes tener como resultado una lista de listas, donde cada comentario estará tokenizado por palabras.\n",
        "\n",
        "Al terminar calcula el total de tokens obtenido en todo el corpus. "
      ]
    },
    {
      "cell_type": "code",
      "execution_count": 622,
      "metadata": {
        "id": "kbAL9-v0V-jx"
      },
      "outputs": [],
      "source": [
        "corpus = []\n",
        "for x in range(len(docs)):\n",
        "    corpus.append(re.findall(r'\\b[a-z]+\\b', docs[x]))\n"
      ]
    },
    {
      "cell_type": "code",
      "execution_count": 623,
      "metadata": {
        "id": "DZs_etmiV-fd"
      },
      "outputs": [
        {
          "name": "stdout",
          "output_type": "stream",
          "text": [
            "Total de tokens: 10768\n"
          ]
        }
      ],
      "source": [
        "totalTokens = 0\n",
        "for x in range(len(corpus)):\n",
        "    totalTokens = totalTokens + len(corpus[x])\n",
        "\n",
        "print (\"Total de tokens: \" + str(totalTokens))"
      ]
    },
    {
      "cell_type": "markdown",
      "metadata": {
        "id": "EFeu0OJ7WDPD"
      },
      "source": [
        "*   **Pregunta 15.**  \n",
        "\n",
        "Finalmente, en este ejercicio definiremos nuestro conjunto de palabras \"stopwords\", las cuales deberás eliminar de todo el corpus. \n",
        "\n",
        "Recuerda que ejemplos de stopwords son artículos, adverbios, conectivos, etcétera, que tienen frecuencias de aparición muy altas en cualquier documento, pero que no brindan mucho significado en cuanto al significado de un enunciado.\n",
        "\n",
        "Con base a la lista de stopwords que se te proporciona, realiza un proceso de limpieza eliminando todas estas palabras del corpus obtenido en el ejercicio anterior.\n",
        "\n",
        "Obtener cuántos tokens/palabras quedan finalmente en todo el corpus.\n",
        "\n",
        "Obtener cuántos de estos tokens/palabras son diferentes, es decir, cuántos tokens únicos tendrá lo que llamaremos más adelante nuestro vocabulario."
      ]
    },
    {
      "cell_type": "code",
      "execution_count": 624,
      "metadata": {
        "id": "6FP4FF3KXGxm"
      },
      "outputs": [],
      "source": [
        "# Considera la siguiente lista como tu conjunto de stopwords:\n",
        "mis_stopwords = ['i', 'me', 'my', 'myself', 'we', 'our', 'ours', 'ourselves', 'you', 'your', 'yours', 'he', 'him', 'his', 'himself', 'she', 'her', 'hers', 'herself', 'it', 'its', 'itself', 'they', 'them', 'their', 'theirs', 'themselves', 'what', 'which', 'who', 'whom', 'this', 'that', 'these', 'those', 'am', 'is', 'are', 'was', 'were', 'be', 'been', 'being', 'have', 'has', 'had', 'having', 'do', 'does', 'did', 'doing', 'a', 'an', 'the', 'and', 'but', 'if', 'or', 'because', 'as', 'until', 'while', 'of', 'at', 'by', 'for', 'with', 'about', 'against', 'between', 'into', 'through', 'during', 'before', 'after', 'above', 'below', 'to', 'from', 'up', 'down', 'in', 'out', 'on', 'over', 'under', 'again', 'further', 'then', 'once', 'here', 'there', 'when', 'where', 'why', 'how', 'all', 'any', 'both', 'each', 'few', 'more', 'most', 'other', 'some', 'such', 'only', 'own', 'same', 'so', 'than', 'too', 'very', 's', 't', 'can', 'will', 'just', 'should', 'now', 'll']"
      ]
    },
    {
      "cell_type": "code",
      "execution_count": 625,
      "metadata": {
        "id": "CD8yjyq1ZrwY"
      },
      "outputs": [
        {
          "name": "stdout",
          "output_type": "stream",
          "text": [
            "Total de tokens después de remover stopwords: 5768\n"
          ]
        }
      ],
      "source": [
        "for x in range(len(corpus)):\n",
        "    corpus[x] = [i for i in corpus[x] if i not in mis_stopwords]\n",
        "\n",
        "totalTokens = 0\n",
        "for x in range(len(corpus)):\n",
        "    totalTokens = totalTokens + len(corpus[x])\n",
        "\n",
        "print (\"Total de tokens después de remover stopwords: \" + str(totalTokens))\n"
      ]
    },
    {
      "cell_type": "code",
      "execution_count": 627,
      "metadata": {
        "id": "4ZPi5prKZro5"
      },
      "outputs": [
        {
          "name": "stdout",
          "output_type": "stream",
          "text": [
            "['wow', 'loved', 'place', 'crust', 'not', 'good', 'tasty', 'texture', 'nasty', 'stopped', 'late', 'may', 'bank', 'holiday', 'off', 'rick', 'steve', 'recommendation', 'selection', 'menu', 'great', 'prices', 'getting', 'angry', 'want', 'damn', 'pho', 'honeslty', 'didnt', 'taste', 'fresh', 'potatoes', 'like', 'rubber', 'could', 'tell', 'made', 'ahead', 'time', 'kept', 'warmer', 'fries', 'touch', 'service', 'prompt', 'would', 'go', 'back', 'cashier', 'no', 'care', 'ever', 'say', 'still', 'ended', 'wayyy', 'overpriced', 'tried', 'cape', 'cod', 'ravoli', 'chickenwith', 'cranberrymmmm', 'disgusted', 'pretty', 'sure', 'human', 'hair', 'shocked', 'signs', 'indicate', 'cash', 'highly', 'recommended', 'waitress', 'little', 'slow', 'worth', 'let', 'alone', 'vegas', 'burrittos', 'blah', 'food', 'amazing', 'also', 'cute', 'less', 'interior', 'beautiful', 'performed', 'thats', 'rightthe', 'red', 'velvet', 'cakeohhh', 'stuff', 'never', 'brought', 'salad']\n",
            "Total de tokens únicos: 1935\n"
          ]
        }
      ],
      "source": [
        "tokensUnicos = []\n",
        "\n",
        "for x in range(len(corpus)):\n",
        "    for y in range(len(corpus[x])):\n",
        "        if corpus[x][y] not in tokensUnicos:\n",
        "            tokensUnicos.append(corpus[x][y])\n",
        "\n",
        "print (tokensUnicos[0:100])\n",
        "\n",
        "print (\"Total de tokens únicos: \" + str(len(tokensUnicos)))"
      ]
    },
    {
      "cell_type": "markdown",
      "metadata": {
        "id": "NDbKkuxRbLoX"
      },
      "source": [
        "*   **Comentarios**\n",
        "\n",
        "Incluye finalmente tus comentarios de la actividad."
      ]
    },
    {
      "attachments": {},
      "cell_type": "markdown",
      "metadata": {
        "id": "o7fzbvqVbUGr"
      },
      "source": [
        "El uso de expresiones regulares nos ayuda a hacer una manipulación poderosa y eficiente de las cadenas de texto. Anteriormente había tenido la oportunidad de utilizarlas para resolver problemas muy específicos de programación, pero en este ejercicio, específicamente en las preguntas de la 13 en adelante, podemos ver que son una herramienta poderosa para el procesamiento de lenguaje natural, pues con unas pocas instrucciones pudimos hacer una manipulación de los textos para obtener el corpus, los tokens y rápidamente eliminar las stopwords.\n",
        "\n",
        "Si tuviéramos qué hacer estos mismos ejercicios con programación, pero sin el uso de expresiones regulares, terminaríamos con código mucho más largo y mucho más ineficiente. Este ejercicio completo corre en muy pocos segundos de inicio a fin y si bien siempre es necesario tener un buscador y buenas referencias a la mano para construir la expresión regular que necesitamos para cada problema en particular, siempre será más rápido y eficinete que hacer programación desde cero para la manipulación de texto.\n",
        "\n",
        "En conclusión las expresiones regulares son una herramienta de programación muy poderosa pues nos permiten realizar operaciones de manipulación de texto de una manera rápida, no sólo durante la programación, sino que más importante, durante el tiempo de ejecución."
      ]
    },
    {
      "cell_type": "markdown",
      "metadata": {
        "id": "PHaKw_6Ldbaf"
      },
      "source": [
        "##**Fin de la Actividad de la semana 2.**"
      ]
    }
  ],
  "metadata": {
    "colab": {
      "collapsed_sections": [
        "759SG4TyfbUn",
        "Zj-h4drXD-X9",
        "BY6yifxscfrx",
        "k_ewoagic5jc",
        "70StdqAZa9E9"
      ],
      "provenance": []
    },
    "kernelspec": {
      "display_name": "Python 3",
      "language": "python",
      "name": "python3"
    },
    "language_info": {
      "codemirror_mode": {
        "name": "ipython",
        "version": 3
      },
      "file_extension": ".py",
      "mimetype": "text/x-python",
      "name": "python",
      "nbconvert_exporter": "python",
      "pygments_lexer": "ipython3",
      "version": "3.10.11"
    },
    "vscode": {
      "interpreter": {
        "hash": "fc52375c3051f8bbc0a735b7da33f92cf3a9b2e994f8cd2368999e1c94828124"
      }
    }
  },
  "nbformat": 4,
  "nbformat_minor": 0
}
